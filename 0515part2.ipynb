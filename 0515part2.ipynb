{
  "nbformat": 4,
  "nbformat_minor": 0,
  "metadata": {
    "colab": {
      "provenance": [],
      "authorship_tag": "ABX9TyN7AUXNsR3P0ARp2SvDAiBZ",
      "include_colab_link": true
    },
    "kernelspec": {
      "name": "python3",
      "display_name": "Python 3"
    },
    "language_info": {
      "name": "python"
    }
  },
  "cells": [
    {
      "cell_type": "markdown",
      "metadata": {
        "id": "view-in-github",
        "colab_type": "text"
      },
      "source": [
        "<a href=\"https://colab.research.google.com/github/410730476/introduction-to-compyters/blob/main/0515part2.ipynb\" target=\"_parent\"><img src=\"https://colab.research.google.com/assets/colab-badge.svg\" alt=\"Open In Colab\"/></a>"
      ]
    },
    {
      "cell_type": "code",
      "execution_count": 1,
      "metadata": {
        "colab": {
          "base_uri": "https://localhost:8080/"
        },
        "id": "cuBh1M7RdEUC",
        "outputId": "22b02b17-f334-4468-ffa4-dfcfbe2f72c0"
      },
      "outputs": [
        {
          "output_type": "stream",
          "name": "stdout",
          "text": [
            "今天會下雨嗎Y\n",
            "出門記得帶傘\n"
          ]
        }
      ],
      "source": [
        "rain = str(input(\"今天會下雨嗎\"))\n",
        "if (rain == \"Y\" ):\n",
        "    print(\"出門記得帶傘\")\n",
        "elif (rain == \"N\" ):\n",
        "    print(\"不用帶傘\")\n",
        "else:\n",
        "    print(\"請重新輸入\")"
      ]
    },
    {
      "cell_type": "code",
      "source": [
        "temperature = float(input(\"請輸入體溫值：\"))\n",
        "\n",
        "if temperature >= 37.5:\n",
        "    print(\"體溫過高！\")\n",
        "elif 37.4 >= temperature >= 37:\n",
        "    print(\"體溫略高！\")\n",
        "elif 34 <= temperature <= 36.9:\n",
        "    print(\"體溫正常！\")\n",
        "elif temperature < 34:\n",
        "    print(\"體溫異常，請重新量測！\")"
      ],
      "metadata": {
        "colab": {
          "base_uri": "https://localhost:8080/"
        },
        "id": "ofWlGZSxdQzJ",
        "outputId": "704fbcda-6824-47ea-d48d-8b4144e40c98"
      },
      "execution_count": 2,
      "outputs": [
        {
          "output_type": "stream",
          "name": "stdout",
          "text": [
            "請輸入體溫值：36.8\n",
            "體溫正常！\n"
          ]
        }
      ]
    },
    {
      "cell_type": "code",
      "source": [
        "Grade = int(input(\"請輸入成績: \"))\n",
        "if Grade >= 90:\n",
        "    print('A')\n",
        "elif Grade >= 80:\n",
        "    print('B')\n",
        "elif Grade >= 70:\n",
        "    print('C')\n",
        "elif Grade >= 60:\n",
        "    print('D')\n",
        "else:\n",
        "    print('F')"
      ],
      "metadata": {
        "colab": {
          "base_uri": "https://localhost:8080/"
        },
        "id": "DcFBh4U2dcKN",
        "outputId": "ea7b2ad8-732f-438e-ec4e-6d1c4b551e70"
      },
      "execution_count": 3,
      "outputs": [
        {
          "output_type": "stream",
          "name": "stdout",
          "text": [
            "請輸入成績: 65\n",
            "D\n"
          ]
        }
      ]
    },
    {
      "cell_type": "code",
      "source": [
        "month = int(input(\"請輸入月份：\"))\n",
        "\n",
        "if month == [3, 4, 5]:\n",
        "    print(\"春天\")\n",
        "elif month == [6, 7, 8]:\n",
        "    print(\"夏天\")\n",
        "elif month == [9, 10, 11]:\n",
        "    print(\"秋天\")\n",
        "elif month == [12, 1, 2]:\n",
        "    print(\"冬天\")\n",
        "else:\n",
        "    print(\"月份不在範圍內\")"
      ],
      "metadata": {
        "colab": {
          "base_uri": "https://localhost:8080/"
        },
        "id": "GZ6MDLDYdj2R",
        "outputId": "bdbd981c-7670-441c-fdaf-4fe8d3590be6"
      },
      "execution_count": 4,
      "outputs": [
        {
          "output_type": "stream",
          "name": "stdout",
          "text": [
            "請輸入月份：2\n",
            "月份不在範圍內\n"
          ]
        }
      ]
    },
    {
      "cell_type": "code",
      "source": [
        "i=int(input('請輸入收入淨額：'))\n",
        "if i>= 2000000:\n",
        "    print('付稅金額：',i*0.3,'元')\n",
        "elif i>=1000000:\n",
        "    print('付稅金額：',i*0.21,'元')\n",
        "elif i>=600000:\n",
        "    print('付稅金額：',i*0.13,'元')\n",
        "elif i>= 300000:\n",
        "    print('付稅金額：',i*0.06,'元')\n",
        "else:\n",
        "    print('付稅金額：',i*0,'元')"
      ],
      "metadata": {
        "colab": {
          "base_uri": "https://localhost:8080/"
        },
        "id": "lyPoKOcedr1L",
        "outputId": "db8c713a-2524-4967-9713-53f0e96da7fe"
      },
      "execution_count": 5,
      "outputs": [
        {
          "output_type": "stream",
          "name": "stdout",
          "text": [
            "請輸入收入淨額：1100000\n",
            "付稅金額： 231000.0 元\n"
          ]
        }
      ]
    }
  ]
}